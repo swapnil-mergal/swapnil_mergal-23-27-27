{
  "nbformat": 4,
  "nbformat_minor": 0,
  "metadata": {
    "colab": {
      "provenance": [],
      "authorship_tag": "ABX9TyMdH3ln+kZhjrbbKFS4eSP4",
      "include_colab_link": true
    },
    "kernelspec": {
      "name": "python3",
      "display_name": "Python 3"
    },
    "language_info": {
      "name": "python"
    }
  },
  "cells": [
    {
      "cell_type": "markdown",
      "metadata": {
        "id": "view-in-github",
        "colab_type": "text"
      },
      "source": [
        "<a href=\"https://colab.research.google.com/github/swapnil-mergal/swapnil_mergal-23-27-27/blob/main/Assgn4_Swapnil_Mergal_23_27_27.ipynb\" target=\"_parent\"><img src=\"https://colab.research.google.com/assets/colab-badge.svg\" alt=\"Open In Colab\"/></a>"
      ]
    },
    {
      "cell_type": "markdown",
      "source": [
        "# 1.Read the housingdata.csv file into pandas DataFrame and display first six rows of the Dataframe"
      ],
      "metadata": {
        "id": "zKbz1gy3ItVG"
      }
    },
    {
      "cell_type": "code",
      "execution_count": 1,
      "metadata": {
        "id": "mVX2qi6gAp4S"
      },
      "outputs": [],
      "source": [
        "import pandas as pd"
      ]
    },
    {
      "cell_type": "code",
      "source": [
        "df = pd.read_csv(\"/content/housingdata.csv - housingdata.csv.csv\")"
      ],
      "metadata": {
        "id": "e_m3Ol7ABS4K"
      },
      "execution_count": 4,
      "outputs": []
    },
    {
      "cell_type": "code",
      "source": [
        "df.head(6)"
      ],
      "metadata": {
        "colab": {
          "base_uri": "https://localhost:8080/",
          "height": 237
        },
        "id": "UXFPGBrYBoEv",
        "outputId": "053753ec-3b19-4961-e7a3-59bf2cd8722f"
      },
      "execution_count": 6,
      "outputs": [
        {
          "output_type": "execute_result",
          "data": {
            "text/plain": [
              "           PID        STATE      PRICE NUM_BEDROOMS NUM_BATH SQ_FT\n",
              "0  100001000.0           MP     321654            3        1  1000\n",
              "1  100002000.0  MAHARASHTRA      21325            3      1.5    --\n",
              "2  100003000.0           AP    2541654          NaN        1   850\n",
              "3  100004000.0           TN     321321            1      NaN   700\n",
              "4          NaN           TN  589465645            3        2  1600\n",
              "5  100006000.0           TN   65465466          NaN        1   800"
            ],
            "text/html": [
              "\n",
              "  <div id=\"df-19957284-272f-44e4-b863-1045cc2d33d8\" class=\"colab-df-container\">\n",
              "    <div>\n",
              "<style scoped>\n",
              "    .dataframe tbody tr th:only-of-type {\n",
              "        vertical-align: middle;\n",
              "    }\n",
              "\n",
              "    .dataframe tbody tr th {\n",
              "        vertical-align: top;\n",
              "    }\n",
              "\n",
              "    .dataframe thead th {\n",
              "        text-align: right;\n",
              "    }\n",
              "</style>\n",
              "<table border=\"1\" class=\"dataframe\">\n",
              "  <thead>\n",
              "    <tr style=\"text-align: right;\">\n",
              "      <th></th>\n",
              "      <th>PID</th>\n",
              "      <th>STATE</th>\n",
              "      <th>PRICE</th>\n",
              "      <th>NUM_BEDROOMS</th>\n",
              "      <th>NUM_BATH</th>\n",
              "      <th>SQ_FT</th>\n",
              "    </tr>\n",
              "  </thead>\n",
              "  <tbody>\n",
              "    <tr>\n",
              "      <th>0</th>\n",
              "      <td>100001000.0</td>\n",
              "      <td>MP</td>\n",
              "      <td>321654</td>\n",
              "      <td>3</td>\n",
              "      <td>1</td>\n",
              "      <td>1000</td>\n",
              "    </tr>\n",
              "    <tr>\n",
              "      <th>1</th>\n",
              "      <td>100002000.0</td>\n",
              "      <td>MAHARASHTRA</td>\n",
              "      <td>21325</td>\n",
              "      <td>3</td>\n",
              "      <td>1.5</td>\n",
              "      <td>--</td>\n",
              "    </tr>\n",
              "    <tr>\n",
              "      <th>2</th>\n",
              "      <td>100003000.0</td>\n",
              "      <td>AP</td>\n",
              "      <td>2541654</td>\n",
              "      <td>NaN</td>\n",
              "      <td>1</td>\n",
              "      <td>850</td>\n",
              "    </tr>\n",
              "    <tr>\n",
              "      <th>3</th>\n",
              "      <td>100004000.0</td>\n",
              "      <td>TN</td>\n",
              "      <td>321321</td>\n",
              "      <td>1</td>\n",
              "      <td>NaN</td>\n",
              "      <td>700</td>\n",
              "    </tr>\n",
              "    <tr>\n",
              "      <th>4</th>\n",
              "      <td>NaN</td>\n",
              "      <td>TN</td>\n",
              "      <td>589465645</td>\n",
              "      <td>3</td>\n",
              "      <td>2</td>\n",
              "      <td>1600</td>\n",
              "    </tr>\n",
              "    <tr>\n",
              "      <th>5</th>\n",
              "      <td>100006000.0</td>\n",
              "      <td>TN</td>\n",
              "      <td>65465466</td>\n",
              "      <td>NaN</td>\n",
              "      <td>1</td>\n",
              "      <td>800</td>\n",
              "    </tr>\n",
              "  </tbody>\n",
              "</table>\n",
              "</div>\n",
              "    <div class=\"colab-df-buttons\">\n",
              "\n",
              "  <div class=\"colab-df-container\">\n",
              "    <button class=\"colab-df-convert\" onclick=\"convertToInteractive('df-19957284-272f-44e4-b863-1045cc2d33d8')\"\n",
              "            title=\"Convert this dataframe to an interactive table.\"\n",
              "            style=\"display:none;\">\n",
              "\n",
              "  <svg xmlns=\"http://www.w3.org/2000/svg\" height=\"24px\" viewBox=\"0 -960 960 960\">\n",
              "    <path d=\"M120-120v-720h720v720H120Zm60-500h600v-160H180v160Zm220 220h160v-160H400v160Zm0 220h160v-160H400v160ZM180-400h160v-160H180v160Zm440 0h160v-160H620v160ZM180-180h160v-160H180v160Zm440 0h160v-160H620v160Z\"/>\n",
              "  </svg>\n",
              "    </button>\n",
              "\n",
              "  <style>\n",
              "    .colab-df-container {\n",
              "      display:flex;\n",
              "      gap: 12px;\n",
              "    }\n",
              "\n",
              "    .colab-df-convert {\n",
              "      background-color: #E8F0FE;\n",
              "      border: none;\n",
              "      border-radius: 50%;\n",
              "      cursor: pointer;\n",
              "      display: none;\n",
              "      fill: #1967D2;\n",
              "      height: 32px;\n",
              "      padding: 0 0 0 0;\n",
              "      width: 32px;\n",
              "    }\n",
              "\n",
              "    .colab-df-convert:hover {\n",
              "      background-color: #E2EBFA;\n",
              "      box-shadow: 0px 1px 2px rgba(60, 64, 67, 0.3), 0px 1px 3px 1px rgba(60, 64, 67, 0.15);\n",
              "      fill: #174EA6;\n",
              "    }\n",
              "\n",
              "    .colab-df-buttons div {\n",
              "      margin-bottom: 4px;\n",
              "    }\n",
              "\n",
              "    [theme=dark] .colab-df-convert {\n",
              "      background-color: #3B4455;\n",
              "      fill: #D2E3FC;\n",
              "    }\n",
              "\n",
              "    [theme=dark] .colab-df-convert:hover {\n",
              "      background-color: #434B5C;\n",
              "      box-shadow: 0px 1px 3px 1px rgba(0, 0, 0, 0.15);\n",
              "      filter: drop-shadow(0px 1px 2px rgba(0, 0, 0, 0.3));\n",
              "      fill: #FFFFFF;\n",
              "    }\n",
              "  </style>\n",
              "\n",
              "    <script>\n",
              "      const buttonEl =\n",
              "        document.querySelector('#df-19957284-272f-44e4-b863-1045cc2d33d8 button.colab-df-convert');\n",
              "      buttonEl.style.display =\n",
              "        google.colab.kernel.accessAllowed ? 'block' : 'none';\n",
              "\n",
              "      async function convertToInteractive(key) {\n",
              "        const element = document.querySelector('#df-19957284-272f-44e4-b863-1045cc2d33d8');\n",
              "        const dataTable =\n",
              "          await google.colab.kernel.invokeFunction('convertToInteractive',\n",
              "                                                    [key], {});\n",
              "        if (!dataTable) return;\n",
              "\n",
              "        const docLinkHtml = 'Like what you see? Visit the ' +\n",
              "          '<a target=\"_blank\" href=https://colab.research.google.com/notebooks/data_table.ipynb>data table notebook</a>'\n",
              "          + ' to learn more about interactive tables.';\n",
              "        element.innerHTML = '';\n",
              "        dataTable['output_type'] = 'display_data';\n",
              "        await google.colab.output.renderOutput(dataTable, element);\n",
              "        const docLink = document.createElement('div');\n",
              "        docLink.innerHTML = docLinkHtml;\n",
              "        element.appendChild(docLink);\n",
              "      }\n",
              "    </script>\n",
              "  </div>\n",
              "\n",
              "\n",
              "<div id=\"df-5b5e8830-1d26-41c6-aae2-e39c8162436b\">\n",
              "  <button class=\"colab-df-quickchart\" onclick=\"quickchart('df-5b5e8830-1d26-41c6-aae2-e39c8162436b')\"\n",
              "            title=\"Suggest charts.\"\n",
              "            style=\"display:none;\">\n",
              "\n",
              "<svg xmlns=\"http://www.w3.org/2000/svg\" height=\"24px\"viewBox=\"0 0 24 24\"\n",
              "     width=\"24px\">\n",
              "    <g>\n",
              "        <path d=\"M19 3H5c-1.1 0-2 .9-2 2v14c0 1.1.9 2 2 2h14c1.1 0 2-.9 2-2V5c0-1.1-.9-2-2-2zM9 17H7v-7h2v7zm4 0h-2V7h2v10zm4 0h-2v-4h2v4z\"/>\n",
              "    </g>\n",
              "</svg>\n",
              "  </button>\n",
              "\n",
              "<style>\n",
              "  .colab-df-quickchart {\n",
              "      --bg-color: #E8F0FE;\n",
              "      --fill-color: #1967D2;\n",
              "      --hover-bg-color: #E2EBFA;\n",
              "      --hover-fill-color: #174EA6;\n",
              "      --disabled-fill-color: #AAA;\n",
              "      --disabled-bg-color: #DDD;\n",
              "  }\n",
              "\n",
              "  [theme=dark] .colab-df-quickchart {\n",
              "      --bg-color: #3B4455;\n",
              "      --fill-color: #D2E3FC;\n",
              "      --hover-bg-color: #434B5C;\n",
              "      --hover-fill-color: #FFFFFF;\n",
              "      --disabled-bg-color: #3B4455;\n",
              "      --disabled-fill-color: #666;\n",
              "  }\n",
              "\n",
              "  .colab-df-quickchart {\n",
              "    background-color: var(--bg-color);\n",
              "    border: none;\n",
              "    border-radius: 50%;\n",
              "    cursor: pointer;\n",
              "    display: none;\n",
              "    fill: var(--fill-color);\n",
              "    height: 32px;\n",
              "    padding: 0;\n",
              "    width: 32px;\n",
              "  }\n",
              "\n",
              "  .colab-df-quickchart:hover {\n",
              "    background-color: var(--hover-bg-color);\n",
              "    box-shadow: 0 1px 2px rgba(60, 64, 67, 0.3), 0 1px 3px 1px rgba(60, 64, 67, 0.15);\n",
              "    fill: var(--button-hover-fill-color);\n",
              "  }\n",
              "\n",
              "  .colab-df-quickchart-complete:disabled,\n",
              "  .colab-df-quickchart-complete:disabled:hover {\n",
              "    background-color: var(--disabled-bg-color);\n",
              "    fill: var(--disabled-fill-color);\n",
              "    box-shadow: none;\n",
              "  }\n",
              "\n",
              "  .colab-df-spinner {\n",
              "    border: 2px solid var(--fill-color);\n",
              "    border-color: transparent;\n",
              "    border-bottom-color: var(--fill-color);\n",
              "    animation:\n",
              "      spin 1s steps(1) infinite;\n",
              "  }\n",
              "\n",
              "  @keyframes spin {\n",
              "    0% {\n",
              "      border-color: transparent;\n",
              "      border-bottom-color: var(--fill-color);\n",
              "      border-left-color: var(--fill-color);\n",
              "    }\n",
              "    20% {\n",
              "      border-color: transparent;\n",
              "      border-left-color: var(--fill-color);\n",
              "      border-top-color: var(--fill-color);\n",
              "    }\n",
              "    30% {\n",
              "      border-color: transparent;\n",
              "      border-left-color: var(--fill-color);\n",
              "      border-top-color: var(--fill-color);\n",
              "      border-right-color: var(--fill-color);\n",
              "    }\n",
              "    40% {\n",
              "      border-color: transparent;\n",
              "      border-right-color: var(--fill-color);\n",
              "      border-top-color: var(--fill-color);\n",
              "    }\n",
              "    60% {\n",
              "      border-color: transparent;\n",
              "      border-right-color: var(--fill-color);\n",
              "    }\n",
              "    80% {\n",
              "      border-color: transparent;\n",
              "      border-right-color: var(--fill-color);\n",
              "      border-bottom-color: var(--fill-color);\n",
              "    }\n",
              "    90% {\n",
              "      border-color: transparent;\n",
              "      border-bottom-color: var(--fill-color);\n",
              "    }\n",
              "  }\n",
              "</style>\n",
              "\n",
              "  <script>\n",
              "    async function quickchart(key) {\n",
              "      const quickchartButtonEl =\n",
              "        document.querySelector('#' + key + ' button');\n",
              "      quickchartButtonEl.disabled = true;  // To prevent multiple clicks.\n",
              "      quickchartButtonEl.classList.add('colab-df-spinner');\n",
              "      try {\n",
              "        const charts = await google.colab.kernel.invokeFunction(\n",
              "            'suggestCharts', [key], {});\n",
              "      } catch (error) {\n",
              "        console.error('Error during call to suggestCharts:', error);\n",
              "      }\n",
              "      quickchartButtonEl.classList.remove('colab-df-spinner');\n",
              "      quickchartButtonEl.classList.add('colab-df-quickchart-complete');\n",
              "    }\n",
              "    (() => {\n",
              "      let quickchartButtonEl =\n",
              "        document.querySelector('#df-5b5e8830-1d26-41c6-aae2-e39c8162436b button');\n",
              "      quickchartButtonEl.style.display =\n",
              "        google.colab.kernel.accessAllowed ? 'block' : 'none';\n",
              "    })();\n",
              "  </script>\n",
              "</div>\n",
              "    </div>\n",
              "  </div>\n"
            ]
          },
          "metadata": {},
          "execution_count": 6
        }
      ]
    },
    {
      "cell_type": "markdown",
      "source": [
        "# 2.Display the column names and row index in separate cells."
      ],
      "metadata": {
        "id": "rhSCh6dsC0zd"
      }
    },
    {
      "cell_type": "code",
      "source": [
        "# Display column names\n",
        "column_names = df.columns\n",
        "column_names\n",
        "\n",
        "# Display row index\n",
        "row_index = df.index\n",
        "row_index\n"
      ],
      "metadata": {
        "colab": {
          "base_uri": "https://localhost:8080/"
        },
        "id": "kAGpfajeCIA4",
        "outputId": "c4cd3518-bece-4c9b-fa3a-f96b25a86ba9"
      },
      "execution_count": 7,
      "outputs": [
        {
          "output_type": "execute_result",
          "data": {
            "text/plain": [
              "RangeIndex(start=0, stop=9, step=1)"
            ]
          },
          "metadata": {},
          "execution_count": 7
        }
      ]
    },
    {
      "cell_type": "markdown",
      "source": [
        "# 3.a) How many numbers of “STATE” exist in the dataset. Hint: use shape\n",
        "#   b) How many unique states exist in the dataset"
      ],
      "metadata": {
        "id": "Cfw_GKj1C_Q-"
      }
    },
    {
      "cell_type": "code",
      "source": [
        "# a) Number of \"STATE\" entries in the dataset\n",
        "num_state_entries = df.shape[0]\n",
        "\n",
        "# b) Number of unique states in the dataset\n",
        "num_unique_states = df[\"STATE\"].nunique()\n",
        "\n",
        "num_state_entries, num_unique_states\n"
      ],
      "metadata": {
        "colab": {
          "base_uri": "https://localhost:8080/"
        },
        "id": "EhHQ8wIICngO",
        "outputId": "5b03565d-50a7-49fa-f1ff-a37b65359a28"
      },
      "execution_count": 8,
      "outputs": [
        {
          "output_type": "execute_result",
          "data": {
            "text/plain": [
              "(9, 6)"
            ]
          },
          "metadata": {},
          "execution_count": 8
        }
      ]
    },
    {
      "cell_type": "markdown",
      "source": [
        "# 4.Retrieve the list of all NaN/Null/Empty cells in the form of Boolean list"
      ],
      "metadata": {
        "id": "UZAisIULDrPq"
      }
    },
    {
      "cell_type": "code",
      "source": [
        "# Create a Boolean DataFrame where True represents NaN/Null/Empty cells\n",
        "null_cells = df.isnull()\n",
        "\n",
        "# Display the Boolean DataFrame\n",
        "print(null_cells)\n"
      ],
      "metadata": {
        "colab": {
          "base_uri": "https://localhost:8080/"
        },
        "id": "jlRlw_fnDQwJ",
        "outputId": "1c44a53d-1de3-4184-95ad-a07bb9302f3e"
      },
      "execution_count": 9,
      "outputs": [
        {
          "output_type": "stream",
          "name": "stdout",
          "text": [
            "     PID  STATE  PRICE  NUM_BEDROOMS  NUM_BATH  SQ_FT\n",
            "0  False  False  False         False     False  False\n",
            "1  False  False  False         False     False  False\n",
            "2  False  False  False          True     False  False\n",
            "3  False  False  False         False      True  False\n",
            "4   True  False  False         False     False  False\n",
            "5  False  False  False          True     False  False\n",
            "6  False  False  False         False     False  False\n",
            "7  False  False  False         False     False   True\n",
            "8  False  False  False         False     False  False\n"
          ]
        }
      ]
    },
    {
      "cell_type": "markdown",
      "source": [
        "#5.Drop all rows with N/A,NA,na values in Num_Bedrooms"
      ],
      "metadata": {
        "id": "WcAUY3PaEJqu"
      }
    },
    {
      "cell_type": "code",
      "source": [
        "# Drop rows with N/A, NA, na values in the \"Num_Bedrooms\" column\n",
        "df = df.dropna(subset=[\"NUM_BEDROOMS\"], how=\"any\")\n",
        "\n",
        "# After dropping rows, you may want to reset the index\n",
        "df.reset_index(drop=True, inplace=True)\n"
      ],
      "metadata": {
        "id": "oECuZAd-D-MQ"
      },
      "execution_count": 11,
      "outputs": []
    },
    {
      "cell_type": "markdown",
      "source": [
        "# 6.Replace the NaN and String entries in Num_Bath with previous entry"
      ],
      "metadata": {
        "id": "ZiwJ-K9-EuYl"
      }
    },
    {
      "cell_type": "code",
      "source": [
        "# Replace NaN and string entries in \"Num_Bath\" with the previous entry\n",
        "df['NUM_BATH'] = df['NUM_BATH'].fillna(method='ffill')\n"
      ],
      "metadata": {
        "colab": {
          "base_uri": "https://localhost:8080/"
        },
        "id": "6SKX23dnERV7",
        "outputId": "db62efb9-e7cc-48ec-c9e2-864882d2354b"
      },
      "execution_count": 14,
      "outputs": [
        {
          "output_type": "stream",
          "name": "stderr",
          "text": [
            "<ipython-input-14-db08db31ae7d>:2: SettingWithCopyWarning: \n",
            "A value is trying to be set on a copy of a slice from a DataFrame.\n",
            "Try using .loc[row_indexer,col_indexer] = value instead\n",
            "\n",
            "See the caveats in the documentation: https://pandas.pydata.org/pandas-docs/stable/user_guide/indexing.html#returning-a-view-versus-a-copy\n",
            "  df['NUM_BATH'] = df['NUM_BATH'].fillna(method='ffill')\n"
          ]
        }
      ]
    },
    {
      "cell_type": "markdown",
      "source": [
        "# 7.Replace the empty values in “SQ_FT” with the mean of the all entries."
      ],
      "metadata": {
        "id": "F83z2I6CFIQx"
      }
    },
    {
      "cell_type": "code",
      "source": [
        "# Calculate the mean of the \"SQ_FT\" column\n",
        "mean_sq_ft = df[\"SQ_FT\"].mean()\n",
        "\n",
        "# Replace NaN (empty) values in \"SQ_FT\" with the mean\n",
        "df[\"SQ_FT\"].fillna(mean_sq_ft, inplace=True)\n"
      ],
      "metadata": {
        "colab": {
          "base_uri": "https://localhost:8080/"
        },
        "id": "iHvwOzTtFSdu",
        "outputId": "edd359e7-64f5-40ed-b5df-76cdb7e09d3d"
      },
      "execution_count": 17,
      "outputs": [
        {
          "output_type": "stream",
          "name": "stderr",
          "text": [
            "<ipython-input-17-b3dcc6bb4d39>:5: SettingWithCopyWarning: \n",
            "A value is trying to be set on a copy of a slice from a DataFrame\n",
            "\n",
            "See the caveats in the documentation: https://pandas.pydata.org/pandas-docs/stable/user_guide/indexing.html#returning-a-view-versus-a-copy\n",
            "  df[\"SQ_FT\"].fillna(mean_sq_ft, inplace=True)\n"
          ]
        }
      ]
    },
    {
      "cell_type": "markdown",
      "source": [
        "# 8.What is the sum of SQ_FT of all entries in the dataset."
      ],
      "metadata": {
        "id": "q7TGfrJpF_ms"
      }
    },
    {
      "cell_type": "code",
      "source": [
        "# Calculate the sum of SQ_FT for all entries in the dataset\n",
        "sum_sq_ft = df[\"SQ_FT\"].sum()\n",
        "\n",
        "# Display the sum\n",
        "print(\"Sum of SQ_FT:\", sum_sq_ft)\n"
      ],
      "metadata": {
        "colab": {
          "base_uri": "https://localhost:8080/"
        },
        "id": "TpAdXJwEFqvd",
        "outputId": "4f5c50a3-7938-4518-a938-27e55baf37eb"
      },
      "execution_count": 18,
      "outputs": [
        {
          "output_type": "stream",
          "name": "stdout",
          "text": [
            "Sum of SQ_FT: 8470.0\n"
          ]
        }
      ]
    },
    {
      "cell_type": "markdown",
      "source": [
        "# 9.Add a new column “NUM_STORE” and with all the values as 1 for all rows"
      ],
      "metadata": {
        "id": "3X34vv4vF-VY"
      }
    },
    {
      "cell_type": "code",
      "source": [
        "# Add a new column \"NUM_STORE\" with all values set to 1\n",
        "df['NUM_STORE'] = 1\n"
      ],
      "metadata": {
        "colab": {
          "base_uri": "https://localhost:8080/"
        },
        "id": "q_HqeSGeGaJL",
        "outputId": "bf84b53e-28c7-498a-8eb2-ddb6273af305"
      },
      "execution_count": 19,
      "outputs": [
        {
          "output_type": "stream",
          "name": "stderr",
          "text": [
            "<ipython-input-19-6bc02e9ef1e5>:2: SettingWithCopyWarning: \n",
            "A value is trying to be set on a copy of a slice from a DataFrame.\n",
            "Try using .loc[row_indexer,col_indexer] = value instead\n",
            "\n",
            "See the caveats in the documentation: https://pandas.pydata.org/pandas-docs/stable/user_guide/indexing.html#returning-a-view-versus-a-copy\n",
            "  df['NUM_STORE'] = 1\n"
          ]
        }
      ]
    },
    {
      "cell_type": "markdown",
      "source": [
        "# 10.Create a DataFrame containing all entries of TN state only"
      ],
      "metadata": {
        "id": "Fmu2utorGg50"
      }
    },
    {
      "cell_type": "code",
      "source": [
        "# Create a DataFrame containing all entries with the \"TN\" state\n",
        "tn_df = df[df[\"STATE\"] == \"TN\"]\n"
      ],
      "metadata": {
        "id": "dBkQcPcDGeHb"
      },
      "execution_count": 20,
      "outputs": []
    },
    {
      "cell_type": "markdown",
      "source": [
        "# 11.Create a DataFrame having SQ_FT area greater than 1000 and display the DataFrame"
      ],
      "metadata": {
        "id": "AVDEWzGbG6DP"
      }
    },
    {
      "cell_type": "code",
      "source": [
        "# Create a DataFrame with \"SQ_FT\" area greater than 1000\n",
        "sq_ft_greater_than_1000 = df[df[\"SQ_FT\"] > 1000]\n",
        "\n",
        "# Display the resulting DataFrame\n",
        "print(sq_ft_greater_than_1000)\n"
      ],
      "metadata": {
        "colab": {
          "base_uri": "https://localhost:8080/"
        },
        "id": "k4I12rUQGzv4",
        "outputId": "dcde4179-9ea9-487b-a559-380909cc91c6"
      },
      "execution_count": 21,
      "outputs": [
        {
          "output_type": "stream",
          "name": "stdout",
          "text": [
            "           PID        STATE      PRICE NUM_BEDROOMS NUM_BATH   SQ_FT  \\\n",
            "1  100002000.0  MAHARASHTRA      21325            3      1.5  1210.0   \n",
            "3          NaN           TN  589465645            3        2  1600.0   \n",
            "5  100008000.0           HP      23131            1        1  1210.0   \n",
            "6  100009000.0           HP      21212           na        2  1800.0   \n",
            "\n",
            "   NUM_STORE  \n",
            "1          1  \n",
            "3          1  \n",
            "5          1  \n",
            "6          1  \n"
          ]
        }
      ]
    },
    {
      "cell_type": "markdown",
      "source": [
        "# 12. Create a DataFrame having only first Three columns and First Three rows"
      ],
      "metadata": {
        "id": "pUQcahZCHNH3"
      }
    },
    {
      "cell_type": "code",
      "source": [
        "# Create a new DataFrame with the first three columns and first three rows\n",
        "subset_df = df.iloc[:3, :3]\n",
        "\n",
        "# Display the resulting DataFrame\n",
        "print(subset_df)\n"
      ],
      "metadata": {
        "colab": {
          "base_uri": "https://localhost:8080/"
        },
        "id": "nSreqMrrHBFs",
        "outputId": "064fe675-5a0b-4285-a17e-c3d4dfd63c4f"
      },
      "execution_count": 22,
      "outputs": [
        {
          "output_type": "stream",
          "name": "stdout",
          "text": [
            "           PID        STATE   PRICE\n",
            "0  100001000.0           MP  321654\n",
            "1  100002000.0  MAHARASHTRA   21325\n",
            "2  100004000.0           TN  321321\n"
          ]
        }
      ]
    },
    {
      "cell_type": "markdown",
      "source": [
        "# 13.Display the state having highest average price per square foot of housing area. Hint: Average of (TotalPrice/Sq_Ft)"
      ],
      "metadata": {
        "id": "MuTN3YhPHjv-"
      }
    },
    {
      "cell_type": "code",
      "source": [
        "# Calculate the average price per square foot for each state\n",
        "df['Price_Per_Sq_Ft'] = df['PRICE'] / df['SQ_FT']\n",
        "average_price_by_state = df.groupby('STATE')['Price_Per_Sq_Ft'].mean()\n",
        "\n",
        "# Find the state with the highest average price per square foot\n",
        "state_with_highest_avg_price = average_price_by_state.idxmax()\n",
        "\n",
        "# Display the state with the highest average price per square foot\n",
        "print(\"State with the highest average price per square foot:\", state_with_highest_avg_price)\n"
      ],
      "metadata": {
        "colab": {
          "base_uri": "https://localhost:8080/"
        },
        "id": "Y78kWeglHhB8",
        "outputId": "a8d4bf5a-c7d7-4c6a-8b2b-dc34e721b849"
      },
      "execution_count": 27,
      "outputs": [
        {
          "output_type": "stream",
          "name": "stdout",
          "text": [
            "State with the highest average price per square foot: TN\n"
          ]
        },
        {
          "output_type": "stream",
          "name": "stderr",
          "text": [
            "<ipython-input-27-4944e7435018>:2: SettingWithCopyWarning: \n",
            "A value is trying to be set on a copy of a slice from a DataFrame.\n",
            "Try using .loc[row_indexer,col_indexer] = value instead\n",
            "\n",
            "See the caveats in the documentation: https://pandas.pydata.org/pandas-docs/stable/user_guide/indexing.html#returning-a-view-versus-a-copy\n",
            "  df['Price_Per_Sq_Ft'] = df['PRICE'] / df['SQ_FT']\n"
          ]
        }
      ]
    },
    {
      "cell_type": "code",
      "source": [],
      "metadata": {
        "id": "6AxUC3ntH8qF"
      },
      "execution_count": null,
      "outputs": []
    },
    {
      "cell_type": "markdown",
      "source": [],
      "metadata": {
        "id": "DLHjP3SrIq0b"
      }
    }
  ]
}