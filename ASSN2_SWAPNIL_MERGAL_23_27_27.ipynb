{
  "nbformat": 4,
  "nbformat_minor": 0,
  "metadata": {
    "colab": {
      "provenance": [],
      "authorship_tag": "ABX9TyPxMkrlF83ViH36fIPag/gn",
      "include_colab_link": true
    },
    "kernelspec": {
      "name": "python3",
      "display_name": "Python 3"
    },
    "language_info": {
      "name": "python"
    }
  },
  "cells": [
    {
      "cell_type": "markdown",
      "metadata": {
        "id": "view-in-github",
        "colab_type": "text"
      },
      "source": [
        "<a href=\"https://colab.research.google.com/github/swapnil-mergal/swapnil_mergal-23-27-27/blob/main/ASSN2_SWAPNIL_MERGAL_23_27_27.ipynb\" target=\"_parent\"><img src=\"https://colab.research.google.com/assets/colab-badge.svg\" alt=\"Open In Colab\"/></a>"
      ]
    },
    {
      "cell_type": "markdown",
      "source": [
        "***Q.1***\n",
        "a) Create a variable named var1 that stores an array of numbers from 0 to 29,\n",
        "inclusive. Print var1 and its shape. Hint : arange\n",
        "\n",
        "b) Change var2 to a validly-shaped two-dimensional matrix and store it in a\n",
        "new variable called var2. Print var2 and its shape. Hint: Use the reshape function\n",
        "\n",
        "c) Create a third variable, var3 that reshapes it into a valid three-dimensional shape.\n",
        "Print var3 and its shape.\n",
        "\n",
        "d) Use two-dimensional array indexing to set the first value in the second row of var2\n",
        "to -1. Now look at var1 and var3. Did they change? Explain what’s\n",
        "going on. (Hint: does reshape return a view or a copy?)\n",
        "\n",
        "e) Another thing that comes up a lot with array shapes is thinking about how to\n",
        "aggregate over specific dimensions. Figure out how the NumPy sum function\n",
        "works (and the axis argument in particular) and do the following:\n",
        "(i) Sum var3 over its second dimension and print the result.\n",
        "(ii) Sum var3 over its third dimension and print the result.\n",
        "(iii) Sum var3 over both its first and third dimensions and print the result.\n",
        "\n",
        "f) Write code to do the following:\n",
        "(i) Slice out the second row of var2 and print it.\n",
        "(ii) Slice out the last column of var2 using the -1 notation and print it.\n",
        "(iii) Slice out the top right 2 × 2 submatrix of var2 and print it."
      ],
      "metadata": {
        "id": "PLF38laTz_Z0"
      }
    },
    {
      "cell_type": "code",
      "source": [
        "# a)\n",
        "import numpy as np\n",
        "var1 = np.arange(30)\n",
        "print(var1)\n",
        "print(var1.shape)\n"
      ],
      "metadata": {
        "colab": {
          "base_uri": "https://localhost:8080/"
        },
        "id": "z21hRmXn0ZvS",
        "outputId": "b14f0cb1-7008-4dc5-999d-2e4e289a4e24"
      },
      "execution_count": 23,
      "outputs": [
        {
          "output_type": "stream",
          "name": "stdout",
          "text": [
            "[ 0  1  2  3  4  5  6  7  8  9 10 11 12 13 14 15 16 17 18 19 20 21 22 23\n",
            " 24 25 26 27 28 29]\n",
            "(30,)\n"
          ]
        }
      ]
    },
    {
      "cell_type": "code",
      "source": [
        "# b)\n",
        "var2 = var1.reshape(6, 5)\n",
        "print(var2)\n",
        "print(var2.shape)\n"
      ],
      "metadata": {
        "colab": {
          "base_uri": "https://localhost:8080/"
        },
        "id": "RRdrpZ3F0ikV",
        "outputId": "4e545671-b812-4785-d405-2febe6cd9940"
      },
      "execution_count": 24,
      "outputs": [
        {
          "output_type": "stream",
          "name": "stdout",
          "text": [
            "[[ 0  1  2  3  4]\n",
            " [ 5  6  7  8  9]\n",
            " [10 11 12 13 14]\n",
            " [15 16 17 18 19]\n",
            " [20 21 22 23 24]\n",
            " [25 26 27 28 29]]\n",
            "(6, 5)\n"
          ]
        }
      ]
    },
    {
      "cell_type": "code",
      "source": [
        "# c)\n",
        "var3 = var1.reshape(3,2,5)\n",
        "print(var3)\n",
        "print(var3.shape)\n"
      ],
      "metadata": {
        "colab": {
          "base_uri": "https://localhost:8080/"
        },
        "id": "d2S1DbAb03BT",
        "outputId": "dbdcd218-cf9e-42b5-a387-c6cd2a88a943"
      },
      "execution_count": 25,
      "outputs": [
        {
          "output_type": "stream",
          "name": "stdout",
          "text": [
            "[[[ 0  1  2  3  4]\n",
            "  [ 5  6  7  8  9]]\n",
            "\n",
            " [[10 11 12 13 14]\n",
            "  [15 16 17 18 19]]\n",
            "\n",
            " [[20 21 22 23 24]\n",
            "  [25 26 27 28 29]]]\n",
            "(3, 2, 5)\n"
          ]
        }
      ]
    },
    {
      "cell_type": "code",
      "source": [
        "# d)\n",
        "var2[1, 0] = -1\n",
        "print(var1)  # Check if var1 changed\n",
        "print(var3)  # Check if var3 changed\n"
      ],
      "metadata": {
        "colab": {
          "base_uri": "https://localhost:8080/"
        },
        "id": "vxsZ6ojz2iwO",
        "outputId": "1f7b9ea0-5d2a-41f0-8abd-b87d587d680c"
      },
      "execution_count": 26,
      "outputs": [
        {
          "output_type": "stream",
          "name": "stdout",
          "text": [
            "[ 0  1  2  3  4 -1  6  7  8  9 10 11 12 13 14 15 16 17 18 19 20 21 22 23\n",
            " 24 25 26 27 28 29]\n",
            "[[[ 0  1  2  3  4]\n",
            "  [-1  6  7  8  9]]\n",
            "\n",
            " [[10 11 12 13 14]\n",
            "  [15 16 17 18 19]]\n",
            "\n",
            " [[20 21 22 23 24]\n",
            "  [25 26 27 28 29]]]\n"
          ]
        }
      ]
    },
    {
      "cell_type": "code",
      "source": [
        "# e)\n",
        "# Sum over the second dimension\n",
        "sum_second_dim = var3.sum(axis=1)\n",
        "print(sum_second_dim)\n",
        "\n",
        "# Sum over the third dimension\n",
        "sum_third_dim = var3.sum(axis=2)\n",
        "print(sum_third_dim)\n",
        "\n",
        "# Sum over first and third dimensions\n",
        "sum_first_third_dim = var3.sum(axis=(0, 2))\n",
        "print(sum_first_third_dim)\n"
      ],
      "metadata": {
        "colab": {
          "base_uri": "https://localhost:8080/"
        },
        "id": "OnvT-UFA4Cop",
        "outputId": "657a0e73-84ac-46eb-8232-401bca8ef2e3"
      },
      "execution_count": 27,
      "outputs": [
        {
          "output_type": "stream",
          "name": "stdout",
          "text": [
            "[[-1  7  9 11 13]\n",
            " [25 27 29 31 33]\n",
            " [45 47 49 51 53]]\n",
            "[[ 10  29]\n",
            " [ 60  85]\n",
            " [110 135]]\n",
            "[180 249]\n"
          ]
        }
      ]
    },
    {
      "cell_type": "code",
      "source": [
        "# f)\n",
        "# Slice out the second row of var2\n",
        "print(var2[1, :])\n",
        "\n",
        "# Slice out the last column using -1\n",
        "print(var2[:, -1])\n",
        "\n",
        "# Slice out the top-right 2x2 submatrix\n",
        "print(var2[:2, -2:])\n"
      ],
      "metadata": {
        "colab": {
          "base_uri": "https://localhost:8080/"
        },
        "id": "s-FDzJN_5qwR",
        "outputId": "49c8259b-4acb-4567-e599-ab89b72c6084"
      },
      "execution_count": 28,
      "outputs": [
        {
          "output_type": "stream",
          "name": "stdout",
          "text": [
            "[-1  6  7  8  9]\n",
            "[ 4  9 14 19 24 29]\n",
            "[[3 4]\n",
            " [8 9]]\n"
          ]
        }
      ]
    },
    {
      "cell_type": "code",
      "source": [],
      "metadata": {
        "id": "qQmX5_e35vZu"
      },
      "execution_count": null,
      "outputs": []
    },
    {
      "cell_type": "markdown",
      "source": [
        "Q.2\n",
        "\n",
        "a) The most basic kind of broadcast is with a scalar, in which you can perform a\n",
        "binary operation (e.g., add, multiply, ...) on an array and a scalar, the effect is to\n",
        "perform that operation with the scalar for every element of the array. To try this\n",
        "out, create a vector 1, 2, . . . , 10 by adding 1 to the result of the arange function.\n",
        "\n",
        "b) Now, create a 10 × 10 matrix A in which Ai j = i + j. You’ll be able to do this\n",
        "using the vector you just created, and adding it to a reshaped version of itself.\n",
        "\n",
        "c) A very common use of broadcasting is to standardize data, i.e., to make it have\n",
        "zero mean and unit variance. First, create a fake “data set” with 50 examples,\n",
        "each with five dimensions.\n",
        "import numpy.random as npr\n",
        "data = np.exp(npr.randn ( 50 , 5 ) )\n",
        "\n",
        "d) You don’t worry too much about what this code is doing at this stage of the\n",
        "course, but for completeness: it imports the NumPy random number generation\n",
        "library, then generates a 50 × 5 matrix of standard normal"
      ],
      "metadata": {
        "id": "dkb5JlqR6Kzy"
      }
    },
    {
      "cell_type": "code",
      "source": [
        "# a) Perform scalar broadcasting by adding 1 to an arange vector:\n",
        "vector = np.arange(1, 11)\n",
        "print(vector)\n"
      ],
      "metadata": {
        "colab": {
          "base_uri": "https://localhost:8080/"
        },
        "id": "7h4-dBf06RFK",
        "outputId": "810e20a2-e7ac-492b-f56f-b64027b69dd6"
      },
      "execution_count": 29,
      "outputs": [
        {
          "output_type": "stream",
          "name": "stdout",
          "text": [
            "[ 1  2  3  4  5  6  7  8  9 10]\n"
          ]
        }
      ]
    },
    {
      "cell_type": "code",
      "source": [
        "# b) Create a 10x10 matrix where A_ij = i + j:\n",
        "A = np.arange(1, 11) + np.arange(1, 11).reshape(10, 1)\n",
        "print(A)\n"
      ],
      "metadata": {
        "colab": {
          "base_uri": "https://localhost:8080/"
        },
        "id": "lal1LnVy6aEY",
        "outputId": "3445b290-cd4c-457e-f1be-c374166129ef"
      },
      "execution_count": 30,
      "outputs": [
        {
          "output_type": "stream",
          "name": "stdout",
          "text": [
            "[[ 2  3  4  5  6  7  8  9 10 11]\n",
            " [ 3  4  5  6  7  8  9 10 11 12]\n",
            " [ 4  5  6  7  8  9 10 11 12 13]\n",
            " [ 5  6  7  8  9 10 11 12 13 14]\n",
            " [ 6  7  8  9 10 11 12 13 14 15]\n",
            " [ 7  8  9 10 11 12 13 14 15 16]\n",
            " [ 8  9 10 11 12 13 14 15 16 17]\n",
            " [ 9 10 11 12 13 14 15 16 17 18]\n",
            " [10 11 12 13 14 15 16 17 18 19]\n",
            " [11 12 13 14 15 16 17 18 19 20]]\n"
          ]
        }
      ]
    },
    {
      "cell_type": "code",
      "source": [
        "# c) Create a dataset with 50 examples and 5 dimensions:\n",
        "import numpy.random as npr\n",
        "data = np.exp(npr.randn(50, 5))\n"
      ],
      "metadata": {
        "id": "zy1wpX4d6gcL"
      },
      "execution_count": 31,
      "outputs": []
    },
    {
      "cell_type": "code",
      "source": [
        "# (d) - Compute the mean and standard deviation of each column in the dataset:\n",
        "# Assuming the 'data' matrix is created as per\n",
        "import numpy.random as npr\n",
        "\n",
        "# Generate the dataset (from Q2(c))\n",
        "data = np.exp(npr.randn(50, 5))\n",
        "\n",
        "# Compute the mean and standard deviation for each column\n",
        "mean_vec = data.mean(axis=0)  # Mean of each column (axis=0 means column-wise)\n",
        "std_vec = data.std(axis=0)    # Standard deviation of each column\n",
        "\n",
        "# Print the results\n",
        "print(\"Column-wise Means:\", mean_vec)\n",
        "print(\"Column-wise Standard Deviations:\", std_vec)\n"
      ],
      "metadata": {
        "colab": {
          "base_uri": "https://localhost:8080/"
        },
        "id": "p7wijh9P8bVS",
        "outputId": "2aea3644-50b7-4d27-8262-182b436d3c89"
      },
      "execution_count": 44,
      "outputs": [
        {
          "output_type": "stream",
          "name": "stdout",
          "text": [
            "Column-wise Means: [1.46082828 1.6282052  1.4215538  1.44564843 1.78174846]\n",
            "Column-wise Standard Deviations: [2.34812407 1.5380404  1.24478979 1.67234694 2.33167238]\n"
          ]
        }
      ]
    },
    {
      "cell_type": "code",
      "source": [
        "# e) Compute the mean and standard deviation of each column:\n",
        "mean_vec = data.mean(axis=0)\n",
        "std_vec = data.std(axis=0)\n",
        "print(\"Means:\", mean_vec)\n",
        "print(\"Standard Deviations:\", std_vec)\n"
      ],
      "metadata": {
        "colab": {
          "base_uri": "https://localhost:8080/"
        },
        "id": "K9Ovdbno6n56",
        "outputId": "6c01170b-5884-4951-d349-806260b078a3"
      },
      "execution_count": 32,
      "outputs": [
        {
          "output_type": "stream",
          "name": "stdout",
          "text": [
            "Means: [1.29183101 1.63697479 2.14024513 1.95768865 1.50108589]\n",
            "Standard Deviations: [1.28546587 2.07862606 3.10387218 2.29555056 2.0603849 ]\n"
          ]
        }
      ]
    },
    {
      "cell_type": "code",
      "source": [
        "# f) Standardize the data:\n",
        "normalized = (data - mean_vec) / std_vec\n",
        "print(\"Normalized Data Mean:\", normalized.mean(axis=0))\n",
        "print(\"Normalized Data Std:\", normalized.std(axis=0))\n"
      ],
      "metadata": {
        "colab": {
          "base_uri": "https://localhost:8080/"
        },
        "id": "-W4Xs3Fh66Tw",
        "outputId": "22f21119-ef05-4f27-a4dc-0345474bce42"
      },
      "execution_count": 34,
      "outputs": [
        {
          "output_type": "stream",
          "name": "stdout",
          "text": [
            "Normalized Data Mean: [-3.17523785e-16 -2.81996648e-16 -2.77555756e-17 -2.04281037e-16\n",
            " -3.77475828e-17]\n",
            "Normalized Data Std: [1. 1. 1. 1. 1.]\n"
          ]
        }
      ]
    },
    {
      "cell_type": "markdown",
      "source": [
        "Q.3"
      ],
      "metadata": {
        "id": "a87yCCsg7St7"
      }
    },
    {
      "cell_type": "code",
      "source": [
        "# a) Generate a Vandermonde matrix without a loop:\n",
        "def vandermonde(N):\n",
        "    vec = np.arange(N) + 1\n",
        "    return vec ** np.arange(N).reshape(-1, 1)\n",
        "\n",
        "vander = vandermonde(12)\n",
        "print(vander)\n"
      ],
      "metadata": {
        "colab": {
          "base_uri": "https://localhost:8080/"
        },
        "id": "LSYTTyXZ69Kp",
        "outputId": "53fc1090-f991-4c7e-88ec-0a6de44eacf4"
      },
      "execution_count": 36,
      "outputs": [
        {
          "output_type": "stream",
          "name": "stdout",
          "text": [
            "[[           1            1            1            1            1\n",
            "             1            1            1            1            1\n",
            "             1            1]\n",
            " [           1            2            3            4            5\n",
            "             6            7            8            9           10\n",
            "            11           12]\n",
            " [           1            4            9           16           25\n",
            "            36           49           64           81          100\n",
            "           121          144]\n",
            " [           1            8           27           64          125\n",
            "           216          343          512          729         1000\n",
            "          1331         1728]\n",
            " [           1           16           81          256          625\n",
            "          1296         2401         4096         6561        10000\n",
            "         14641        20736]\n",
            " [           1           32          243         1024         3125\n",
            "          7776        16807        32768        59049       100000\n",
            "        161051       248832]\n",
            " [           1           64          729         4096        15625\n",
            "         46656       117649       262144       531441      1000000\n",
            "       1771561      2985984]\n",
            " [           1          128         2187        16384        78125\n",
            "        279936       823543      2097152      4782969     10000000\n",
            "      19487171     35831808]\n",
            " [           1          256         6561        65536       390625\n",
            "       1679616      5764801     16777216     43046721    100000000\n",
            "     214358881    429981696]\n",
            " [           1          512        19683       262144      1953125\n",
            "      10077696     40353607    134217728    387420489   1000000000\n",
            "    2357947691   5159780352]\n",
            " [           1         1024        59049      1048576      9765625\n",
            "      60466176    282475249   1073741824   3486784401  10000000000\n",
            "   25937424601  61917364224]\n",
            " [           1         2048       177147      4194304     48828125\n",
            "     362797056   1977326743   8589934592  31381059609 100000000000\n",
            "  285311670611 743008370688]]\n"
          ]
        }
      ]
    },
    {
      "cell_type": "code",
      "source": [
        "# b) Matrix-vector multiplication:\n",
        "x = np.ones(12)\n",
        "b = np.dot(vander, x)\n",
        "print(b)\n"
      ],
      "metadata": {
        "colab": {
          "base_uri": "https://localhost:8080/"
        },
        "id": "7fvLCqN37Y9p",
        "outputId": "046c8a7e-399a-40ba-e391-62db4b569bba"
      },
      "execution_count": 38,
      "outputs": [
        {
          "output_type": "stream",
          "name": "stdout",
          "text": [
            "[1.20000000e+01 7.80000000e+01 6.50000000e+02 6.08400000e+03\n",
            " 6.07100000e+04 6.30708000e+05 6.73595000e+06 7.33994040e+07\n",
            " 8.12071910e+08 9.09203303e+09 1.02769131e+11 1.17068436e+12]\n"
          ]
        }
      ]
    },
    {
      "cell_type": "code",
      "source": [
        "# c) Solve the system by inverting the matrix:import numpy.linalg as la\n",
        "import numpy as np\n",
        "import numpy.linalg as la  # Correct aliasing of numpy.linalg\n",
        "\n",
        "# Invert the Vandermonde matrix\n",
        "V_inv = la.inv(vander)\n",
        "\n",
        "# Perform the matrix-vector multiplication\n",
        "x_calc = np.dot(V_inv, b)\n",
        "\n",
        "print(x_calc)\n"
      ],
      "metadata": {
        "colab": {
          "base_uri": "https://localhost:8080/"
        },
        "id": "oEQJwJI47iZp",
        "outputId": "5eb47dfc-9e93-413e-f9c9-7556b7b41712"
      },
      "execution_count": 42,
      "outputs": [
        {
          "output_type": "stream",
          "name": "stdout",
          "text": [
            "[1.40164465 0.59611278 1.00202715 1.00117254 0.9974848  1.00318933\n",
            " 0.99717116 1.00180864 0.99918208 1.00024882 0.99995425 1.00000385]\n"
          ]
        }
      ]
    },
    {
      "cell_type": "code",
      "source": [
        "# d) Solve using solve function:\n",
        "x_solve = la.solve(vander, b)\n",
        "print(x_solve)\n"
      ],
      "metadata": {
        "colab": {
          "base_uri": "https://localhost:8080/"
        },
        "id": "14_fRfG_7uiM",
        "outputId": "2c69289c-eb78-4376-fb85-22f7b4c951ea"
      },
      "execution_count": 43,
      "outputs": [
        {
          "output_type": "stream",
          "name": "stdout",
          "text": [
            "[0.99997509 1.00022004 0.99910211 1.0022556  0.99613289 1.00472989\n",
            " 0.99580438 1.00269135 0.99877921 1.00037229 0.99993139 1.00000578]\n"
          ]
        }
      ]
    },
    {
      "cell_type": "code",
      "source": [],
      "metadata": {
        "id": "YYn5LAwD78gP"
      },
      "execution_count": null,
      "outputs": []
    }
  ]
}